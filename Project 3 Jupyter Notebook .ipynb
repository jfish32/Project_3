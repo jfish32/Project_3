{
 "cells": [
  {
   "cell_type": "code",
   "execution_count": 42,
   "id": "84f2f047",
   "metadata": {},
   "outputs": [],
   "source": [
    "# Import the dependencies.\n",
    "from pathlib import Path\n",
    "from sqlalchemy import create_engine\n",
    "import pandas as pd\n",
    "\n",
    "\n",
    "from sqlalchemy import create_engine\n",
    "#engine = create_engine('postgresql+psycopg2://coleo@Cole:postgres@localhost/YelpCSVs')\n",
    "\n",
    "user = 'postgres'\n",
    "password = 'postgres'\n",
    "host = 'localhost'\n",
    "port = '5432'\n",
    "database = 'YelpCSVs'\n",
    "\n",
    "connection_string =(f'postgresql+psycopg2://{user}:{password}@{host}:{port}/{database}')\n",
    "\n",
    "query = \"\"\"\n",
    "SELECT *\n",
    "FROM yelpcsvsrestaurants\n",
    "\"\"\"\n",
    "\n",
    "df = pd.read_sql_query(query,engine)\n",
    "\n"
   ]
  },
  {
   "cell_type": "code",
   "execution_count": 43,
   "id": "006861c2",
   "metadata": {},
   "outputs": [
    {
     "data": {
      "text/html": [
       "<div>\n",
       "<style scoped>\n",
       "    .dataframe tbody tr th:only-of-type {\n",
       "        vertical-align: middle;\n",
       "    }\n",
       "\n",
       "    .dataframe tbody tr th {\n",
       "        vertical-align: top;\n",
       "    }\n",
       "\n",
       "    .dataframe thead th {\n",
       "        text-align: right;\n",
       "    }\n",
       "</style>\n",
       "<table border=\"1\" class=\"dataframe\">\n",
       "  <thead>\n",
       "    <tr style=\"text-align: right;\">\n",
       "      <th></th>\n",
       "      <th>name</th>\n",
       "      <th>address</th>\n",
       "      <th>zip_code</th>\n",
       "      <th>city</th>\n",
       "      <th>state</th>\n",
       "      <th>country</th>\n",
       "      <th>latitude</th>\n",
       "      <th>longitude</th>\n",
       "      <th>rating</th>\n",
       "    </tr>\n",
       "  </thead>\n",
       "  <tbody>\n",
       "    <tr>\n",
       "      <th>0</th>\n",
       "      <td>Girl &amp; The Goat</td>\n",
       "      <td>809 W Randolph</td>\n",
       "      <td>60607.0</td>\n",
       "      <td>Chicago</td>\n",
       "      <td>IL</td>\n",
       "      <td>US</td>\n",
       "      <td>41.884181</td>\n",
       "      <td>-87.647947</td>\n",
       "      <td>4.4</td>\n",
       "    </tr>\n",
       "    <tr>\n",
       "      <th>1</th>\n",
       "      <td>The Perch</td>\n",
       "      <td>1932 W Division</td>\n",
       "      <td>60622.0</td>\n",
       "      <td>Chicago</td>\n",
       "      <td>IL</td>\n",
       "      <td>US</td>\n",
       "      <td>41.903480</td>\n",
       "      <td>-87.676221</td>\n",
       "      <td>4.4</td>\n",
       "    </tr>\n",
       "    <tr>\n",
       "      <th>2</th>\n",
       "      <td>The Dearborn</td>\n",
       "      <td>145 N Dearborn St</td>\n",
       "      <td>60602.0</td>\n",
       "      <td>Chicago</td>\n",
       "      <td>IL</td>\n",
       "      <td>US</td>\n",
       "      <td>41.884253</td>\n",
       "      <td>-87.629315</td>\n",
       "      <td>4.4</td>\n",
       "    </tr>\n",
       "    <tr>\n",
       "      <th>3</th>\n",
       "      <td>The Purple Pig</td>\n",
       "      <td>444 N Michigan Ave</td>\n",
       "      <td>60611.0</td>\n",
       "      <td>Chicago</td>\n",
       "      <td>IL</td>\n",
       "      <td>US</td>\n",
       "      <td>41.890694</td>\n",
       "      <td>-87.624782</td>\n",
       "      <td>4.3</td>\n",
       "    </tr>\n",
       "    <tr>\n",
       "      <th>4</th>\n",
       "      <td>Penumbra</td>\n",
       "      <td>3309 W Fullerton Ave</td>\n",
       "      <td>60647.0</td>\n",
       "      <td>Chicago</td>\n",
       "      <td>IL</td>\n",
       "      <td>US</td>\n",
       "      <td>41.924426</td>\n",
       "      <td>-87.710898</td>\n",
       "      <td>4.8</td>\n",
       "    </tr>\n",
       "  </tbody>\n",
       "</table>\n",
       "</div>"
      ],
      "text/plain": [
       "              name               address  zip_code     city state country  \\\n",
       "0  Girl & The Goat        809 W Randolph   60607.0  Chicago    IL      US   \n",
       "1        The Perch       1932 W Division   60622.0  Chicago    IL      US   \n",
       "2     The Dearborn     145 N Dearborn St   60602.0  Chicago    IL      US   \n",
       "3   The Purple Pig    444 N Michigan Ave   60611.0  Chicago    IL      US   \n",
       "4         Penumbra  3309 W Fullerton Ave   60647.0  Chicago    IL      US   \n",
       "\n",
       "    latitude  longitude  rating  \n",
       "0  41.884181 -87.647947     4.4  \n",
       "1  41.903480 -87.676221     4.4  \n",
       "2  41.884253 -87.629315     4.4  \n",
       "3  41.890694 -87.624782     4.3  \n",
       "4  41.924426 -87.710898     4.8  "
      ]
     },
     "execution_count": 43,
     "metadata": {},
     "output_type": "execute_result"
    }
   ],
   "source": [
    "df.head ()"
   ]
  },
  {
   "cell_type": "code",
   "execution_count": 40,
   "id": "c2388d0b",
   "metadata": {},
   "outputs": [
    {
     "data": {
      "text/plain": [
       "<sqlalchemy.engine.base.Connection at 0x2343c8cece0>"
      ]
     },
     "execution_count": 40,
     "metadata": {},
     "output_type": "execute_result"
    }
   ],
   "source": [
    "engine.connect()"
   ]
  }
 ],
 "metadata": {
  "kernelspec": {
   "display_name": "Python 3 (ipykernel)",
   "language": "python",
   "name": "python3"
  },
  "language_info": {
   "codemirror_mode": {
    "name": "ipython",
    "version": 3
   },
   "file_extension": ".py",
   "mimetype": "text/x-python",
   "name": "python",
   "nbconvert_exporter": "python",
   "pygments_lexer": "ipython3",
   "version": "3.10.13"
  }
 },
 "nbformat": 4,
 "nbformat_minor": 5
}
